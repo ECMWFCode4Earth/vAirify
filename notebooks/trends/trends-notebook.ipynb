{
 "cells": [
  {
   "cell_type": "markdown",
   "metadata": {},
   "source": [
    "# Pollutant data trends\n",
    "\n",
    "#### Notebook Purpose\n",
    "\n",
    "This notebook displays the last month's worth of data for all pollutants for a city"
   ]
  },
  {
   "cell_type": "markdown",
   "metadata": {},
   "source": [
    "# Brief explanation of Jupyter Notebook:\n",
    "\n",
    "Just incase you are new to Jupyter notebooks, here is a very quick explanation of the basic structure of a notebook.\n",
    "\n",
    "#### Code Cells:\n",
    "\n",
    "The notebook is made up of cells. A common cell type is a code cell, where you write and execute code. \n",
    "\n",
    "When you run the cell, the output (such as text, numbers, or plots) is displayed directly below the cell.\n",
    "\n",
    "#### Markdown Cells:\n",
    "\n",
    "Markdown cells allow you to write formatted text using Markdown syntax. You can include headers, bullet points, links, and even equations (using LaTeX). These are useful for adding explanations, notes, or documentation.\n",
    "\n",
    "Example: You might see sections labeled \"Install Packages\", \"Global Variables\", or \"Get Cities\" in a notebook to organize information and code.\n",
    "\n",
    "#### Interactive Output:\n",
    "\n",
    "In addition to displaying text, code cells can show rich output such as plots (using libraries like matplotlib),tables, or even interactive widgets. This allows you to explore data visually within the same environment.\n",
    "\n",
    "Example: A notebook could display a line chart or scatter plot right after running code that generates the data."
   ]
  },
  {
   "cell_type": "markdown",
   "metadata": {},
   "source": [
    "# Install packages\n",
    "\n",
    "Before you run any other code cells ensure all the packages are installed. \n",
    "\n",
    "Do this by running the code cell below. Do so by clicking the play symbol next to the code cell on the left had side in the margin. \n",
    "\n",
    "Depending on what you are using to view this notebook you may have to hover over the left side of the code cell in the margin to get it to apear. This is the case in visual studio.\n",
    "\n",
    "**PLEASE RUN THE CODE CELL BELOW BEFORE ANYTHING ELSE**"
   ]
  },
  {
   "cell_type": "code",
   "execution_count": null,
   "metadata": {},
   "outputs": [],
   "source": [
    "%pip install ipywidgets\n",
    "%pip install requests\n",
    "%pip install matplotlib"
   ]
  },
  {
   "cell_type": "markdown",
   "metadata": {},
   "source": [
    "# Global Variables\n",
    "\n",
    "To connect to the VAirfy API we need to tell our notebook where it needs to send its requests to. We can do this by setting the url variable below.\n",
    "\n",
    "**By default** it is set to use the production API. However should you have a local database and api set up and you wish to use that, you are able to set that below. \n",
    "\n",
    "**IF YOU ARE HAPPY WITH THE URL BELOW RUN THE CODE CELL BEFORE MOVING ON TO THE NEXT STEP**"
   ]
  },
  {
   "cell_type": "code",
   "execution_count": 2,
   "metadata": {},
   "outputs": [],
   "source": [
    "AIR_QUALITY_API_URL = \"http://64.225.143.231/api\""
   ]
  },
  {
   "cell_type": "markdown",
   "metadata": {},
   "source": [
    "# Get Cities\n",
    "\n",
    "Run code below to get the cities from the database. \n",
    "\n",
    "Once you have run the code cell a selection box should apear. Simple click on the city you want to use.\n",
    "\n",
    "**PLEASE RUN THE CODE CELL BELOW BEFORE ANYTHING ELSE**"
   ]
  },
  {
   "cell_type": "code",
   "execution_count": 3,
   "metadata": {},
   "outputs": [
    {
     "data": {
      "application/vnd.jupyter.widget-view+json": {
       "model_id": "a44838e1bfef42b7b202c529478793d9",
       "version_major": 2,
       "version_minor": 0
      },
      "text/plain": [
       "interactive(children=(Dropdown(description='Cities', index=112, options=('Dubai', 'Abu Dhabi', 'Kabul', 'Bueno…"
      ]
     },
     "metadata": {},
     "output_type": "display_data"
    },
    {
     "data": {
      "text/plain": [
       "<function __main__.update_chosen_city(city_input: str)>"
      ]
     },
     "execution_count": 3,
     "metadata": {},
     "output_type": "execute_result"
    }
   ],
   "source": [
    "from ipywidgets import interact\n",
    "import ipywidgets as widgets\n",
    "import csv\n",
    "cities = []\n",
    "city: str\n",
    "def update_chosen_city(city_input: str):\n",
    "      global city\n",
    "      city = city_input\n",
    "with open('../../deployment/database/CAMS_locations_V1.csv') as csv_file:\n",
    "    csv_reader = csv.reader(csv_file, delimiter=',')\n",
    "    next(csv_reader)\n",
    "    for row in csv_reader:\n",
    "            cities.append(row[1])\n",
    "\n",
    "cities_widget = widgets.Dropdown(\n",
    "    options=cities,\n",
    "    value=\"Lima\",\n",
    "    description='Cities',\n",
    ")\n",
    "interact(update_chosen_city, city_input=cities_widget)"
   ]
  },
  {
   "cell_type": "code",
   "execution_count": 4,
   "metadata": {},
   "outputs": [
    {
     "name": "stdout",
     "output_type": "stream",
     "text": [
      "200\n"
     ]
    }
   ],
   "source": [
    "import requests\n",
    "import os\n",
    "from datetime import datetime\n",
    "from dateutil.relativedelta import relativedelta\n",
    "\n",
    "endpoint = AIR_QUALITY_API_URL + \"/air-pollutant/measurements\"\n",
    "\n",
    "params = {\n",
    "    \"date_from\": datetime.now() - relativedelta(months=1),\n",
    "    \"date_to\": datetime.now(),\n",
    "    \"location_type\": \"city\",\n",
    "    \"location_names\": [\"London\"],\n",
    "    \"api_source\": \"OpenAQ\",\n",
    "}\n",
    "\n",
    "response = requests.get(endpoint, params=params)\n",
    "\n",
    "print(response.status_code)\n",
    "api_request_result = response.json()"
   ]
  },
  {
   "cell_type": "markdown",
   "metadata": {},
   "source": [
    "# Prepare Data to display\n",
    "\n",
    "The below code will prepare data to display on the graph. It groups the data by pollutant and within that by measuring station. Please ensure you run this before running the graph code cell below.\n",
    "\n",
    "**PLEASE RUN THE CODE CELL BELOW BEFORE ANYTHING ELSE**"
   ]
  },
  {
   "cell_type": "code",
   "execution_count": 5,
   "metadata": {},
   "outputs": [],
   "source": [
    "processed_data = {\"no2\":{},\n",
    "                  \"o3\":{},\n",
    "                  \"pm2_5\":{},\n",
    "                  \"pm10\":{},\n",
    "                  \"so2\":{}}\n",
    "\n",
    "def generate_data_scafold():\n",
    "    return {\n",
    "        \"values\":[],\n",
    "        \"times\":[]\n",
    "    }\n",
    "\n",
    "def update_processed_data(measurement, pollutant, site_name, measurement_date):\n",
    "    if pollutant in measurement:\n",
    "        if site_name not in processed_data[pollutant] : processed_data[pollutant][site_name] = generate_data_scafold()\n",
    "        processed_data[pollutant][site_name][\"values\"].append(measurement[pollutant])\n",
    "        processed_data[pollutant][site_name][\"times\"].append(measurement_date)\n",
    "\n",
    "for measurement in api_request_result:\n",
    "    site_name = measurement[\"site_name\"]\n",
    "    measurement_date = datetime.strptime(measurement[\"measurement_date\"], '%Y-%m-%dT%H:%M:%SZ')\n",
    "    if \"no2\" in measurement: update_processed_data(measurement, \"no2\", site_name, measurement_date)\n",
    "    if \"o3\" in measurement: update_processed_data(measurement, \"o3\", site_name, measurement_date)\n",
    "    if \"pm2_5\" in measurement: update_processed_data(measurement, \"pm2_5\", site_name, measurement_date)\n",
    "    if \"pm10\" in measurement: update_processed_data(measurement, \"pm10\", site_name, measurement_date)\n",
    "    if \"so2\" in measurement: update_processed_data(measurement, \"so2\", site_name, measurement_date)"
   ]
  },
  {
   "cell_type": "markdown",
   "metadata": {},
   "source": [
    "# Generating the Graphs\n",
    "\n",
    "The below code cell will generate five graphs. One for each polutant. Each line represents a measuring station."
   ]
  },
  {
   "cell_type": "code",
   "execution_count": null,
   "metadata": {},
   "outputs": [],
   "source": [
    "import matplotlib.pyplot as plt\n",
    "import matplotlib.dates as mdates\n",
    "\n",
    "def find_max_graph_width(current_max_width, current_data_length):\n",
    "    if(current_max_width < current_data_length):\n",
    "       return current_data_length * 0.5\n",
    "    return current_max_width\n",
    "\n",
    "for pollutant in processed_data:\n",
    "    fig = plt.figure()\n",
    "    ax = fig.add_subplot()\n",
    "    max_width = 0\n",
    "    for key in processed_data[pollutant]:\n",
    "        ax.plot(processed_data[pollutant][key][\"times\"], processed_data[pollutant][key][\"values\"])\n",
    "        ax.xaxis.set_major_locator(mdates.HourLocator())\n",
    "        ax.xaxis.set_major_formatter(mdates.DateFormatter('%Y-%m-%d %H:%M:%S'))\n",
    "        ax.set_xlabel('Date')\n",
    "        ax.set_ylabel('Value µg/m³')\n",
    "        max_width = find_max_graph_width(max_width, len(processed_data[pollutant][key][\"times\"]))\n",
    "    fig.set_size_inches(max_width, 10)\n",
    "    plt.title(\"A Months worth of \" + pollutant + \" data for \" + city)\n",
    "    plt.setp(ax.get_xticklabels(), rotation=45, ha=\"right\")\n",
    "    plt.tight_layout()\n",
    "\n",
    "plt.show()  # display"
   ]
  }
 ],
 "metadata": {
  "kernelspec": {
   "display_name": "Python 3",
   "language": "python",
   "name": "python3"
  },
  "language_info": {
   "codemirror_mode": {
    "name": "ipython",
    "version": 3
   },
   "file_extension": ".py",
   "mimetype": "text/x-python",
   "name": "python",
   "nbconvert_exporter": "python",
   "pygments_lexer": "ipython3",
   "version": "3.12.5"
  }
 },
 "nbformat": 4,
 "nbformat_minor": 2
}
